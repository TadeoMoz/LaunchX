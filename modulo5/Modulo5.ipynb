{
 "cells": [
  {
   "cell_type": "markdown",
   "metadata": {},
   "source": [
    "### Ejercicio 1\n",
    "Crear variables para almacenar las dos distancias\n",
    "\n",
    "¡Asegúrate de quitar las comas!"
   ]
  },
  {
   "cell_type": "code",
   "execution_count": 14,
   "metadata": {},
   "outputs": [
    {
     "name": "stdout",
     "output_type": "stream",
     "text": [
      "La distancia en Kms entre la Tierra y Júpiter es de: 628949330\n",
      "La distancia en millas es de : 390577533.93\n"
     ]
    }
   ],
   "source": [
    "tierra = 149597870\n",
    "jupiter = 778547200\n",
    "distancia = jupiter - tierra\n",
    "millas = 0.621\n",
    "\n",
    "# Distancia entre planetas\n",
    "print(\"La distancia en Kms entre la Tierra y Júpiter es de:\", distancia)\n",
    "print(\"La distancia en millas es de :\", distancia*millas)"
   ]
  },
  {
   "cell_type": "markdown",
   "metadata": {},
   "source": [
    "### Ejercicio 2\n",
    "Almacenar las entradas del usuario"
   ]
  },
  {
   "cell_type": "code",
   "execution_count": 25,
   "metadata": {},
   "outputs": [
    {
     "name": "stdout",
     "output_type": "stream",
     "text": [
      "Ingrese la distancia del sol en Kms: 149597870\n",
      "Ingrese la distancia de un planeta en Kms: 778547200\n",
      "Distancia en Kms: 628949330\n",
      "Distancia n millas 390577533.93\n"
     ]
    }
   ],
   "source": [
    "# Ingresando las distancias\n",
    "solDistancia = input(\"Ingrese la distancia del sol en Kms: \")\n",
    "planetaDistancia = input(\"Ingrese la distancia de un planeta en Kms: \")\n",
    "\n",
    "# Almacenandolas y convirtiendo a enteros\n",
    "solDistancia = int(solDistancia)\n",
    "planetaDistancia = int(planetaDistancia)\n",
    "\n",
    "# Cálculo\n",
    "distanciaKm = planetaDistancia - solDistancia\n",
    "print(\"Distancia en Kms:\",distanciaKm)\n",
    "\n",
    "# Valor absoluto\n",
    "distanciaMillas = abs(distanciaKm * millas)\n",
    "\n",
    "print(\"Distancia n millas\", distanciaMillas)"
   ]
  },
  {
   "cell_type": "code",
   "execution_count": null,
   "metadata": {},
   "outputs": [],
   "source": []
  }
 ],
 "metadata": {
  "kernelspec": {
   "display_name": "Python 3.8.10 64-bit",
   "language": "python",
   "name": "python3810jvsc74a57bd0916dbcbb3f70747c44a77c7bcd40155683ae19c65e1c03b4aa3499c5328201f1"
  },
  "language_info": {
   "codemirror_mode": {
    "name": "ipython",
    "version": 3
   },
   "file_extension": ".py",
   "mimetype": "text/x-python",
   "name": "python",
   "nbconvert_exporter": "python",
   "pygments_lexer": "ipython3",
   "version": "3.8.10"
  }
 },
 "nbformat": 4,
 "nbformat_minor": 4
}
