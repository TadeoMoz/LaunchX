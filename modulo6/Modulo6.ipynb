{
 "cells": [
  {
   "cell_type": "markdown",
   "metadata": {},
   "source": [
    "### Ejercicio 1"
   ]
  },
  {
   "cell_type": "code",
   "execution_count": 2,
   "metadata": {},
   "outputs": [
    {
     "name": "stdout",
     "output_type": "stream",
     "text": [
      "Hay  8 planetas \n"
     ]
    }
   ],
   "source": [
    "# Generando la lista\n",
    "planetas = ['tierra', 'marte', 'jupiter', 'saturno', 'urano', 'neptuno', 'venus', 'mercurio']\n",
    "\n",
    "print(\"Hay\", len(planetas), \"planetas \")"
   ]
  },
  {
   "cell_type": "code",
   "execution_count": 4,
   "metadata": {},
   "outputs": [
    {
     "name": "stdout",
     "output_type": "stream",
     "text": [
      "pluton es el último planeta\n"
     ]
    }
   ],
   "source": [
    "# Agregando otro elemento\n",
    "planetas.append('pluton')\n",
    "print(planetas[-1], 'es el último planeta')"
   ]
  },
  {
   "cell_type": "markdown",
   "metadata": {},
   "source": [
    "### Ejercicio 2"
   ]
  },
  {
   "cell_type": "code",
   "execution_count": 10,
   "metadata": {},
   "outputs": [
    {
     "name": "stdout",
     "output_type": "stream",
     "text": [
      "Ingrese el nombre de un planeta (todo en minusculas)jupiter\n",
      "Estos son los planetas que estan mas cercanos al sol que jupiter\n",
      "['tierra', 'marte']\n",
      "---------\n",
      "Estos son los planetas que estan mas lejanos al sol que jupiter\n",
      "['saturno', 'urano', 'neptuno', 'venus', 'mercurio', 'pluton']\n"
     ]
    }
   ],
   "source": [
    "# Solicitar el nombre de un planeta utilizando input\n",
    "usuarioPlaneta = input(\"Ingrese el nombre de un planeta (todo en minusculas)\")\n",
    "\n",
    "# Buscando en la lista\n",
    "planetasIndex = planetas.index(usuarioPlaneta)\n",
    "\n",
    "# Mostrando los planetas más cercanos \n",
    "print(\"Estos son los planetas que estan mas cercanos al sol que \" + usuarioPlaneta)\n",
    "print(planetas[0:planetasIndex])\n",
    "print(\"---------\")\n",
    "\n",
    "# Mostrando los planetas más lejanos\n",
    "print(\"Estos son los planetas que estan mas lejanos al sol que \" + usuarioPlaneta)\n",
    "print(planetas[planetasIndex + 1:])\n"
   ]
  },
  {
   "cell_type": "code",
   "execution_count": null,
   "metadata": {},
   "outputs": [],
   "source": []
  }
 ],
 "metadata": {
  "kernelspec": {
   "display_name": "Python 3.8.10 64-bit",
   "language": "python",
   "name": "python3810jvsc74a57bd0916dbcbb3f70747c44a77c7bcd40155683ae19c65e1c03b4aa3499c5328201f1"
  },
  "language_info": {
   "codemirror_mode": {
    "name": "ipython",
    "version": 3
   },
   "file_extension": ".py",
   "mimetype": "text/x-python",
   "name": "python",
   "nbconvert_exporter": "python",
   "pygments_lexer": "ipython3",
   "version": "3.8.10"
  }
 },
 "nbformat": 4,
 "nbformat_minor": 4
}
