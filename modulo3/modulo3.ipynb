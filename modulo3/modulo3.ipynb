{
 "cells": [
  {
   "cell_type": "markdown",
   "metadata": {},
   "source": [
    "### Problema 1\n",
    "Añadir el código necesario para crear una variable que guarde la velocidad del asteroide.\n",
    "\n",
    "Escribe una expresión de prueba para calcular si necesita una advertencia.\n",
    "\n",
    "Agregue las instrucciones que se ejecutarán si la expresión de prueba es true o false."
   ]
  },
  {
   "cell_type": "code",
   "execution_count": 13,
   "metadata": {},
   "outputs": [
    {
     "name": "stdout",
     "output_type": "stream",
     "text": [
      "Alerta el asteroide se acerca a una velocidad muy alta\n"
     ]
    }
   ],
   "source": [
    "velAsteroide = 49\n",
    "\n",
    "if velAsteroide > 25:\n",
    "    print('Alerta el asteroide se acerca a una velocidad muy alta')\n",
    "else:\n",
    "    print('Monitoreando')\n",
    "    "
   ]
  },
  {
   "cell_type": "markdown",
   "metadata": {},
   "source": [
    "### Problema 2\n",
    "\n",
    "Agrega el código para crear una variable para un asteroide que viaja a 19 km/s\n",
    "\n",
    "Escribe varias expresiones de prueba para determinar si puedes ver el rayo de luz desde la tierra\n",
    "\n",
    "Agrega las instrucciones que se ejecutarán si las expresiones de prueba son True o False"
   ]
  },
  {
   "cell_type": "code",
   "execution_count": 15,
   "metadata": {},
   "outputs": [
    {
     "name": "stdout",
     "output_type": "stream",
     "text": [
      "Se pueden ver la luz del asteroide en el cielo\n"
     ]
    }
   ],
   "source": [
    "velAsteroide = 48\n",
    "\n",
    "if velAsteroide:\n",
    "    if velAsteroide >= 49:\n",
    "        print('Alerta el asteroide se acerca a una velocidad muy alta')\n",
    "    elif velAsteroide >= 20:\n",
    "        print('Se pueden ver la luz del asteroide en el cielo')\n",
    "    else:\n",
    "        print('Monitoreando')"
   ]
  },
  {
   "cell_type": "markdown",
   "metadata": {},
   "source": [
    "### Problema 3\n",
    "\n",
    "Agrega el código para crear nuevas variables para la velocidad y el tamaño del asteroide\n",
    "\n",
    "Para probar el código, prueba con varias velocidades y tamaños\n",
    "\n",
    "Escribe varias expresiones de prueba o combinaciones de expresiones de prueba para determinar qué mensaje se debe enviar a Tierra."
   ]
  },
  {
   "cell_type": "code",
   "execution_count": 19,
   "metadata": {},
   "outputs": [
    {
     "name": "stdout",
     "output_type": "stream",
     "text": [
      "Se pueden ver la luz del asteroide en el cielo\n"
     ]
    }
   ],
   "source": [
    "velAsteroide = 25\n",
    "tamAsteroide = 40\n",
    "\n",
    "if velAsteroide >= 49 and tamAsteroide > 25:\n",
    "    print('Alerta el asteroide se acerca a una velocidad muy alta')\n",
    "elif velAsteroide >= 20:\n",
    "    print('Se pueden ver la luz del asteroide en el cielo')\n",
    "else:\n",
    "    print('Monitoreado')  \n",
    "    "
   ]
  },
  {
   "cell_type": "code",
   "execution_count": null,
   "metadata": {},
   "outputs": [],
   "source": []
  }
 ],
 "metadata": {
  "kernelspec": {
   "display_name": "Python 3.8.10 64-bit",
   "language": "python",
   "name": "python3810jvsc74a57bd0916dbcbb3f70747c44a77c7bcd40155683ae19c65e1c03b4aa3499c5328201f1"
  },
  "language_info": {
   "codemirror_mode": {
    "name": "ipython",
    "version": 3
   },
   "file_extension": ".py",
   "mimetype": "text/x-python",
   "name": "python",
   "nbconvert_exporter": "python",
   "pygments_lexer": "ipython3",
   "version": "3.8.10"
  }
 },
 "nbformat": 4,
 "nbformat_minor": 4
}
