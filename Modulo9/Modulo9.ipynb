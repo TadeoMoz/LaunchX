{
 "cells": [
  {
   "cell_type": "markdown",
   "metadata": {},
   "source": [
    "### Ejercicio 1"
   ]
  },
  {
   "cell_type": "code",
   "execution_count": 1,
   "metadata": {},
   "outputs": [],
   "source": [
    "# Funcion que lee 3 tanques de combustible y muestre el promedio\n",
    "\n",
    "def generarReporte(tanquePrincipal, tanqueExterno, tanqueHidrogeno):\n",
    "    promedioTotal = (tanquePrincipal + tanqueExterno + tanqueHidrogeno) / 3\n",
    "    return f\"\"\"Reporte de combustible:\n",
    "    Promedio Total: {promedioTotal}%\n",
    "    Tanque Principal: {tanquePrincipal}%\n",
    "    Tanque Externo: {tanqueExterno}%\n",
    "    Tanque Hidrogeno: {tanqueHidrogeno}%\n",
    "    \"\"\""
   ]
  },
  {
   "cell_type": "code",
   "execution_count": 2,
   "metadata": {},
   "outputs": [
    {
     "name": "stdout",
     "output_type": "stream",
     "text": [
      "Reporte de combustible:\n",
      "    Promedio Total: 76.66666666666667%\n",
      "    Tanque Principal: 75%\n",
      "    Tanque Externo: 55%\n",
      "    Tanque Hidrogeno: 100%\n",
      "    \n"
     ]
    }
   ],
   "source": [
    "# Llamando la funcion\n",
    "print(generarReporte(75, 55, 100))"
   ]
  },
  {
   "cell_type": "code",
   "execution_count": 4,
   "metadata": {},
   "outputs": [
    {
     "data": {
      "text/plain": [
       "76.66666666666667"
      ]
     },
     "execution_count": 4,
     "metadata": {},
     "output_type": "execute_result"
    }
   ],
   "source": [
    "# Funcion promedio\n",
    "def promedio(valor):\n",
    "    total = sum(valor)\n",
    "    cantidadItems = len(valor)\n",
    "    return total / cantidadItems\n",
    "\n",
    "# Probando la funcion\n",
    "promedio([75, 55, 100])"
   ]
  },
  {
   "cell_type": "code",
   "execution_count": 5,
   "metadata": {},
   "outputs": [
    {
     "name": "stdout",
     "output_type": "stream",
     "text": [
      "Reporte de combustible:\n",
      "    Promedio Total: 78.0%\n",
      "    Tanque Principal: 88%\n",
      "    Tanque Externo: 76%\n",
      "    Tanque Hidrogeno: 70%\n",
      "    \n"
     ]
    }
   ],
   "source": [
    "# Actualizando la funcion\n",
    "def generarReporte(tanquePrincipal, tanqueExterno, tanqueHidrogeno):\n",
    "    promedioTotal = (tanquePrincipal + tanqueExterno + tanqueHidrogeno) / 3\n",
    "    return f\"\"\"Reporte de combustible:\n",
    "    Promedio Total: {promedioTotal}%\n",
    "    Tanque Principal: {tanquePrincipal}%\n",
    "    Tanque Externo: {tanqueExterno}%\n",
    "    Tanque Hidrogeno: {tanqueHidrogeno}%\n",
    "    \"\"\"\n",
    "\n",
    "# Usando otros valores\n",
    "print(generarReporte(88, 76, 70))"
   ]
  },
  {
   "cell_type": "markdown",
   "metadata": {},
   "source": [
    "### Ejercicio 2"
   ]
  },
  {
   "cell_type": "code",
   "execution_count": 8,
   "metadata": {},
   "outputs": [
    {
     "name": "stdout",
     "output_type": "stream",
     "text": [
      "\n",
      "    Mision a Luna\n",
      "    Tiempo de viaje: 65 minutos\n",
      "    Combustioble restante: 500000 galones\n",
      "    \n"
     ]
    }
   ],
   "source": [
    "# Función con un informe preciso de la misión. Considera hora de prelanzamiento, tiempo de vuelo, destino, tanque externo y tanque interno\n",
    "\n",
    "def reporteMision(tiempoPrelanzamiento, tiempoVuelo, destino, tanqueExterno, tanquePrincipal):\n",
    "    return f\"\"\"\n",
    "    Mision a {destino}\n",
    "    Tiempo de viaje: {tiempoPrelanzamiento + tiempoVuelo} minutos\n",
    "    Combustioble restante: {tanqueExterno + tanquePrincipal} galones\n",
    "    \"\"\"\n",
    "\n",
    "print(reporteMision(14, 51, \"Luna\", 200000, 300000))"
   ]
  },
  {
   "cell_type": "code",
   "execution_count": 9,
   "metadata": {},
   "outputs": [
    {
     "name": "stdout",
     "output_type": "stream",
     "text": [
      "\n",
      "    Mision a Luna\n",
      "    Tiempo de viaje: 76 minutos\n",
      "    Combustible restante: 500000\n",
      "    \n"
     ]
    }
   ],
   "source": [
    "def reporteMision(destino, *minutos, **reservasCombustible):\n",
    "    return f\"\"\"\n",
    "    Mision a {destino}\n",
    "    Tiempo de viaje: {sum(minutos)} minutos\n",
    "    Combustible restante: {sum(reservasCombustible.values())}\n",
    "    \"\"\"\n",
    "\n",
    "print(reporteMision(\"Luna\", 10, 15, 51, principal=300000, externo=200000))"
   ]
  },
  {
   "cell_type": "code",
   "execution_count": 12,
   "metadata": {},
   "outputs": [
    {
     "name": "stdout",
     "output_type": "stream",
     "text": [
      "\n",
      "    Mision a Luna\n",
      "    Tiempo de viaje: 74 minutes\n",
      "    Combustible restante: 500000\n",
      "    tanque principal --> 300000 galones restantes\n",
      "tanque externo --> 200000 galones restantes\n",
      "\n"
     ]
    }
   ],
   "source": [
    "def reporteMision(destino, *minutos, **reservasCombustible):\n",
    "    reportePrincipal = f\"\"\"\n",
    "    Mision a {destino}\n",
    "    Tiempo de viaje: {sum(minutos)} minutes\n",
    "    Combustible restante: {sum(reservasCombustible.values())}\n",
    "    \"\"\"\n",
    "    for nombreTanque, galones in reservasCombustible.items():\n",
    "        reportePrincipal += f\"tanque {nombreTanque} --> {galones} galones restantes\\n\"\n",
    "    return reportePrincipal\n",
    "\n",
    "print(reporteMision(\"Luna\", 8, 11, 55, principal=300000, externo=200000))"
   ]
  },
  {
   "cell_type": "code",
   "execution_count": null,
   "metadata": {},
   "outputs": [],
   "source": []
  }
 ],
 "metadata": {
  "kernelspec": {
   "display_name": "Python 3.8.10 64-bit",
   "language": "python",
   "name": "python3810jvsc74a57bd0916dbcbb3f70747c44a77c7bcd40155683ae19c65e1c03b4aa3499c5328201f1"
  },
  "language_info": {
   "codemirror_mode": {
    "name": "ipython",
    "version": 3
   },
   "file_extension": ".py",
   "mimetype": "text/x-python",
   "name": "python",
   "nbconvert_exporter": "python",
   "pygments_lexer": "ipython3",
   "version": "3.8.10"
  }
 },
 "nbformat": 4,
 "nbformat_minor": 4
}
